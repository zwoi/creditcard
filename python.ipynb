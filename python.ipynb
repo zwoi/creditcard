{
 "cells": [
  {
   "attachments": {},
   "cell_type": "markdown",
   "metadata": {},
   "source": [
    "## Kontext \n",
    "Identifizierung der Datenquelle, Beschaffung der Daten, Problem- und Fragestellung, Zielsetzung, Vorgehen & Methoden\n",
    "## Explorative Datenanalyse (EDA) \n",
    "Daten beschreiben, Identifizierung und Verstehen von Beziehungen und Gruppen,\n",
    "## Hypothesentest\n",
    "Unifying & Transformation Datentypen und Formate analysieren und bei Bedarf vereinheitlichen,\n",
    "Daten sinnvoll zusammenführen\n",
    "## Data Cleansing \n",
    "Beurteilung der Datenqualität und erforderliche Bereinigung der Daten"
   ]
  },
  {
   "cell_type": "code",
   "execution_count": null,
   "metadata": {
    "vscode": {
     "languageId": "plaintext"
    }
   },
   "outputs": [],
   "source": []
  }
 ],
 "metadata": {
  "language_info": {
   "name": "python"
  },
  "orig_nbformat": 4
 },
 "nbformat": 4,
 "nbformat_minor": 2
}
